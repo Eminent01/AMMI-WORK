{
  "nbformat": 4,
  "nbformat_minor": 0,
  "metadata": {
    "colab": {
      "name": "Copy of Linear Regression Tutorial.ipynb",
      "provenance": [],
      "collapsed_sections": []
    },
    "kernelspec": {
      "name": "python3",
      "display_name": "Python 3"
    },
    "language_info": {
      "name": "python"
    }
  },
  "cells": [
    {
      "cell_type": "code",
      "execution_count": 1,
      "metadata": {
        "id": "lpO8Roo99Fys"
      },
      "outputs": [],
      "source": [
        "import numpy as np\n",
        "import pandas as pd"
      ]
    },
    {
      "cell_type": "markdown",
      "source": [
        "* Please implement the following tasks:"
      ],
      "metadata": {
        "id": "sWsQ04OK-63J"
      }
    },
    {
      "cell_type": "markdown",
      "source": [
        "1. A csv file containing the dataset will be shared, download it and upload it."
      ],
      "metadata": {
        "id": "yhJ1nV9Y9UIU"
      }
    },
    {
      "cell_type": "markdown",
      "source": [
        "2. Read the csv file using Pandas."
      ],
      "metadata": {
        "id": "YfIQQGRQ-5W4"
      }
    },
    {
      "cell_type": "code",
      "source": [
        "my_path = \"/content/classwork-data.csv\" # write the path of the data file here\n",
        "data = pd.read_csv(my_path)"
      ],
      "metadata": {
        "id": "c2Q8nMwXCWlS"
      },
      "execution_count": 2,
      "outputs": []
    },
    {
      "cell_type": "code",
      "source": [
        "data.head()"
      ],
      "metadata": {
        "id": "rgyuWm484Qiw",
        "colab": {
          "base_uri": "https://localhost:8080/",
          "height": 204
        },
        "outputId": "970964f3-d63a-4190-cc87-396e617694ff"
      },
      "execution_count": 3,
      "outputs": [
        {
          "output_type": "execute_result",
          "data": {
            "text/html": [
              "\n",
              "  <div id=\"df-e56549ad-b717-4dc0-a352-f518d2e166c7\">\n",
              "    <div class=\"colab-df-container\">\n",
              "      <div>\n",
              "<style scoped>\n",
              "    .dataframe tbody tr th:only-of-type {\n",
              "        vertical-align: middle;\n",
              "    }\n",
              "\n",
              "    .dataframe tbody tr th {\n",
              "        vertical-align: top;\n",
              "    }\n",
              "\n",
              "    .dataframe thead th {\n",
              "        text-align: right;\n",
              "    }\n",
              "</style>\n",
              "<table border=\"1\" class=\"dataframe\">\n",
              "  <thead>\n",
              "    <tr style=\"text-align: right;\">\n",
              "      <th></th>\n",
              "      <th>Unnamed: 0</th>\n",
              "      <th>col1</th>\n",
              "      <th>col2</th>\n",
              "      <th>col3</th>\n",
              "      <th>col4</th>\n",
              "      <th>target</th>\n",
              "    </tr>\n",
              "  </thead>\n",
              "  <tbody>\n",
              "    <tr>\n",
              "      <th>0</th>\n",
              "      <td>0</td>\n",
              "      <td>1.0</td>\n",
              "      <td>73.847017</td>\n",
              "      <td>5453.381922</td>\n",
              "      <td>402715.987625</td>\n",
              "      <td>241.893563</td>\n",
              "    </tr>\n",
              "    <tr>\n",
              "      <th>1</th>\n",
              "      <td>1</td>\n",
              "      <td>1.0</td>\n",
              "      <td>68.781904</td>\n",
              "      <td>4730.950324</td>\n",
              "      <td>325403.771243</td>\n",
              "      <td>162.310473</td>\n",
              "    </tr>\n",
              "    <tr>\n",
              "      <th>2</th>\n",
              "      <td>2</td>\n",
              "      <td>1.0</td>\n",
              "      <td>74.110105</td>\n",
              "      <td>5492.307721</td>\n",
              "      <td>407035.504061</td>\n",
              "      <td>212.740856</td>\n",
              "    </tr>\n",
              "    <tr>\n",
              "      <th>3</th>\n",
              "      <td>3</td>\n",
              "      <td>1.0</td>\n",
              "      <td>71.730978</td>\n",
              "      <td>5145.333263</td>\n",
              "      <td>369079.789145</td>\n",
              "      <td>220.042470</td>\n",
              "    </tr>\n",
              "    <tr>\n",
              "      <th>4</th>\n",
              "      <td>4</td>\n",
              "      <td>1.0</td>\n",
              "      <td>69.881796</td>\n",
              "      <td>4883.465393</td>\n",
              "      <td>341265.331673</td>\n",
              "      <td>206.349801</td>\n",
              "    </tr>\n",
              "  </tbody>\n",
              "</table>\n",
              "</div>\n",
              "      <button class=\"colab-df-convert\" onclick=\"convertToInteractive('df-e56549ad-b717-4dc0-a352-f518d2e166c7')\"\n",
              "              title=\"Convert this dataframe to an interactive table.\"\n",
              "              style=\"display:none;\">\n",
              "        \n",
              "  <svg xmlns=\"http://www.w3.org/2000/svg\" height=\"24px\"viewBox=\"0 0 24 24\"\n",
              "       width=\"24px\">\n",
              "    <path d=\"M0 0h24v24H0V0z\" fill=\"none\"/>\n",
              "    <path d=\"M18.56 5.44l.94 2.06.94-2.06 2.06-.94-2.06-.94-.94-2.06-.94 2.06-2.06.94zm-11 1L8.5 8.5l.94-2.06 2.06-.94-2.06-.94L8.5 2.5l-.94 2.06-2.06.94zm10 10l.94 2.06.94-2.06 2.06-.94-2.06-.94-.94-2.06-.94 2.06-2.06.94z\"/><path d=\"M17.41 7.96l-1.37-1.37c-.4-.4-.92-.59-1.43-.59-.52 0-1.04.2-1.43.59L10.3 9.45l-7.72 7.72c-.78.78-.78 2.05 0 2.83L4 21.41c.39.39.9.59 1.41.59.51 0 1.02-.2 1.41-.59l7.78-7.78 2.81-2.81c.8-.78.8-2.07 0-2.86zM5.41 20L4 18.59l7.72-7.72 1.47 1.35L5.41 20z\"/>\n",
              "  </svg>\n",
              "      </button>\n",
              "      \n",
              "  <style>\n",
              "    .colab-df-container {\n",
              "      display:flex;\n",
              "      flex-wrap:wrap;\n",
              "      gap: 12px;\n",
              "    }\n",
              "\n",
              "    .colab-df-convert {\n",
              "      background-color: #E8F0FE;\n",
              "      border: none;\n",
              "      border-radius: 50%;\n",
              "      cursor: pointer;\n",
              "      display: none;\n",
              "      fill: #1967D2;\n",
              "      height: 32px;\n",
              "      padding: 0 0 0 0;\n",
              "      width: 32px;\n",
              "    }\n",
              "\n",
              "    .colab-df-convert:hover {\n",
              "      background-color: #E2EBFA;\n",
              "      box-shadow: 0px 1px 2px rgba(60, 64, 67, 0.3), 0px 1px 3px 1px rgba(60, 64, 67, 0.15);\n",
              "      fill: #174EA6;\n",
              "    }\n",
              "\n",
              "    [theme=dark] .colab-df-convert {\n",
              "      background-color: #3B4455;\n",
              "      fill: #D2E3FC;\n",
              "    }\n",
              "\n",
              "    [theme=dark] .colab-df-convert:hover {\n",
              "      background-color: #434B5C;\n",
              "      box-shadow: 0px 1px 3px 1px rgba(0, 0, 0, 0.15);\n",
              "      filter: drop-shadow(0px 1px 2px rgba(0, 0, 0, 0.3));\n",
              "      fill: #FFFFFF;\n",
              "    }\n",
              "  </style>\n",
              "\n",
              "      <script>\n",
              "        const buttonEl =\n",
              "          document.querySelector('#df-e56549ad-b717-4dc0-a352-f518d2e166c7 button.colab-df-convert');\n",
              "        buttonEl.style.display =\n",
              "          google.colab.kernel.accessAllowed ? 'block' : 'none';\n",
              "\n",
              "        async function convertToInteractive(key) {\n",
              "          const element = document.querySelector('#df-e56549ad-b717-4dc0-a352-f518d2e166c7');\n",
              "          const dataTable =\n",
              "            await google.colab.kernel.invokeFunction('convertToInteractive',\n",
              "                                                     [key], {});\n",
              "          if (!dataTable) return;\n",
              "\n",
              "          const docLinkHtml = 'Like what you see? Visit the ' +\n",
              "            '<a target=\"_blank\" href=https://colab.research.google.com/notebooks/data_table.ipynb>data table notebook</a>'\n",
              "            + ' to learn more about interactive tables.';\n",
              "          element.innerHTML = '';\n",
              "          dataTable['output_type'] = 'display_data';\n",
              "          await google.colab.output.renderOutput(dataTable, element);\n",
              "          const docLink = document.createElement('div');\n",
              "          docLink.innerHTML = docLinkHtml;\n",
              "          element.appendChild(docLink);\n",
              "        }\n",
              "      </script>\n",
              "    </div>\n",
              "  </div>\n",
              "  "
            ],
            "text/plain": [
              "   Unnamed: 0  col1       col2         col3           col4      target\n",
              "0           0   1.0  73.847017  5453.381922  402715.987625  241.893563\n",
              "1           1   1.0  68.781904  4730.950324  325403.771243  162.310473\n",
              "2           2   1.0  74.110105  5492.307721  407035.504061  212.740856\n",
              "3           3   1.0  71.730978  5145.333263  369079.789145  220.042470\n",
              "4           4   1.0  69.881796  4883.465393  341265.331673  206.349801"
            ]
          },
          "metadata": {},
          "execution_count": 3
        }
      ]
    },
    {
      "cell_type": "code",
      "source": [
        "data.shape"
      ],
      "metadata": {
        "colab": {
          "base_uri": "https://localhost:8080/"
        },
        "id": "S217LKl91AWc",
        "outputId": "f672622a-668f-41ce-a5b3-99988f736ea4"
      },
      "execution_count": 5,
      "outputs": [
        {
          "output_type": "execute_result",
          "data": {
            "text/plain": [
              "(10000, 6)"
            ]
          },
          "metadata": {},
          "execution_count": 5
        }
      ]
    },
    {
      "cell_type": "markdown",
      "source": [
        "3. Create a variable X for the input columns (col1, col2, col3, col4)."
      ],
      "metadata": {
        "id": "CzwBx2kmDTEO"
      }
    },
    {
      "cell_type": "code",
      "source": [
        "X = data.iloc[:,1:-1].values"
      ],
      "metadata": {
        "id": "l5fYQYVBDKVW"
      },
      "execution_count": 6,
      "outputs": []
    },
    {
      "cell_type": "code",
      "source": [
        "X.shape"
      ],
      "metadata": {
        "colab": {
          "base_uri": "https://localhost:8080/"
        },
        "id": "7faoN5W_2Zd2",
        "outputId": "f0415a7f-f97b-4da2-c4db-65f47290c6f2"
      },
      "execution_count": 7,
      "outputs": [
        {
          "output_type": "execute_result",
          "data": {
            "text/plain": [
              "(10000, 4)"
            ]
          },
          "metadata": {},
          "execution_count": 7
        }
      ]
    },
    {
      "cell_type": "markdown",
      "source": [
        "4. Create a variable Y for the output column (target)."
      ],
      "metadata": {
        "id": "tnWjO0oQErwW"
      }
    },
    {
      "cell_type": "code",
      "source": [
        "Y  = data.iloc[:,-1].values"
      ],
      "metadata": {
        "id": "oVxovq0QE8ft"
      },
      "execution_count": 8,
      "outputs": []
    },
    {
      "cell_type": "code",
      "source": [
        "Y.shape"
      ],
      "metadata": {
        "id": "mRrDYVaB3AIO",
        "outputId": "b633f535-2c97-4443-faa0-f65d73a2e909",
        "colab": {
          "base_uri": "https://localhost:8080/"
        }
      },
      "execution_count": 16,
      "outputs": [
        {
          "output_type": "execute_result",
          "data": {
            "text/plain": [
              "(10000,)"
            ]
          },
          "metadata": {},
          "execution_count": 16
        }
      ]
    },
    {
      "cell_type": "code",
      "source": [
        "#################################################################################################################"
      ],
      "metadata": {
        "id": "gqQlEiEG3Kev"
      },
      "execution_count": null,
      "outputs": []
    },
    {
      "cell_type": "markdown",
      "source": [
        "5. Split the dataset into two sets, training and test sets.\n",
        "* check online [here](https://scikit-learn.org/stable/modules/generated/sklearn.model_selection.train_test_split.html) how to use the **train_test_split** function in the sklearn library."
      ],
      "metadata": {
        "id": "XB8hdptqFN2F"
      }
    },
    {
      "cell_type": "code",
      "source": [
        "# You need to find:   X_train, X_test, Y_train, Y_test\n",
        "from sklearn.model_selection import train_test_split\n",
        "X_train, X_test, Y_train, Y_test = train_test_split(X, Y, test_size=0.20, random_state=42)"
      ],
      "metadata": {
        "id": "o3-TGQDtFSHj"
      },
      "execution_count": 13,
      "outputs": []
    },
    {
      "cell_type": "code",
      "source": [
        "X_train.shape"
      ],
      "metadata": {
        "id": "Eeoozbdx5m27",
        "outputId": "695bfca1-f547-440f-a2f7-9ba5ae8e8eb5",
        "colab": {
          "base_uri": "https://localhost:8080/"
        }
      },
      "execution_count": 18,
      "outputs": [
        {
          "output_type": "execute_result",
          "data": {
            "text/plain": [
              "(8000, 4)"
            ]
          },
          "metadata": {},
          "execution_count": 18
        }
      ]
    },
    {
      "cell_type": "code",
      "source": [
        "X_test.shape"
      ],
      "metadata": {
        "id": "sGh2nF9_5668",
        "outputId": "f5a48f1e-97b7-4ccb-b57c-6298a26c8ad1",
        "colab": {
          "base_uri": "https://localhost:8080/"
        }
      },
      "execution_count": 20,
      "outputs": [
        {
          "output_type": "execute_result",
          "data": {
            "text/plain": [
              "(2000, 4)"
            ]
          },
          "metadata": {},
          "execution_count": 20
        }
      ]
    },
    {
      "cell_type": "code",
      "source": [
        "len(X)"
      ],
      "metadata": {
        "id": "pcIc1lgh7Q4d",
        "outputId": "9d19041a-d230-4ac3-824e-60d1ae6eb45a",
        "colab": {
          "base_uri": "https://localhost:8080/"
        }
      },
      "execution_count": 21,
      "outputs": [
        {
          "output_type": "execute_result",
          "data": {
            "text/plain": [
              "10000"
            ]
          },
          "metadata": {},
          "execution_count": 21
        }
      ]
    },
    {
      "cell_type": "markdown",
      "source": [
        "6. Use Mean squared error to report the performance of the linear regression model."
      ],
      "metadata": {
        "id": "ReOn2cPsMnZw"
      }
    },
    {
      "cell_type": "markdown",
      "source": [
        "$$\n",
        "MSE = \\frac{\\sum{(target - prediction)^2}}{n}\n",
        "$$"
      ],
      "metadata": {
        "id": "VbuJOlY0wFWu"
      }
    },
    {
      "cell_type": "code",
      "source": [
        "# define the MSE fun\n",
        "def MSE(y_true, y_pred):\n",
        "  n = len(X)\n",
        "  nume= ((y_true - y_pred)**2)\n",
        "  s = np.sum(nume)\n",
        "  MSE = s/n\n",
        "  return MSE \n",
        "  # calculate the MSE and return it"
      ],
      "metadata": {
        "id": "unYqUDO9M1fh"
      },
      "execution_count": 22,
      "outputs": []
    },
    {
      "cell_type": "code",
      "source": [
        "#################################################################################################################"
      ],
      "metadata": {
        "id": "gKZCEGVv3Omi"
      },
      "execution_count": null,
      "outputs": []
    },
    {
      "cell_type": "markdown",
      "source": [
        "7. Implement function MLE, that computes the maximum likelihood estimator for the given data."
      ],
      "metadata": {
        "id": "J0EQrxBINsfO"
      }
    },
    {
      "cell_type": "markdown",
      "source": [
        "Calculate the model parameter using the closed form solution as indicated in the following equation:\n",
        "\n",
        "$$\n",
        "\\boldsymbol w = (\\boldsymbol X^T\\boldsymbol X)^{-1}\\boldsymbol X^T\\boldsymbol Y\n",
        "$$\n",
        "\n",
        "X is the inputs, and Y is the targets"
      ],
      "metadata": {
        "id": "K6VpvJ_yxS59"
      }
    },
    {
      "cell_type": "code",
      "source": [
        "def MLE(inputs, targets):\n",
        "  A = inputs.transpose() @ inputs\n",
        "  B = inputs.transpose() @ targets\n",
        "  w = np.linalg.inv(A) @ B\n",
        "  return w\n",
        "  # calculate the parameter w and return it\n",
        "  #pass"
      ],
      "metadata": {
        "id": "IkaV15sENl89"
      },
      "execution_count": 37,
      "outputs": []
    },
    {
      "cell_type": "code",
      "source": [
        "c =np.array([[1,2],[3,4]])\n",
        "d =np.array([[1],[2]])\n",
        "np.linalg.inv(c)"
      ],
      "metadata": {
        "id": "G2fBvLX4-QmX",
        "outputId": "a8039270-5839-4c36-bbe2-98c1eeaae441",
        "colab": {
          "base_uri": "https://localhost:8080/"
        }
      },
      "execution_count": 45,
      "outputs": [
        {
          "output_type": "execute_result",
          "data": {
            "text/plain": [
              "array([[-2. ,  1. ],\n",
              "       [ 1.5, -0.5]])"
            ]
          },
          "metadata": {},
          "execution_count": 45
        }
      ]
    },
    {
      "cell_type": "code",
      "source": [
        "c@d"
      ],
      "metadata": {
        "id": "dfT4sDo5DoTz",
        "outputId": "c5a999f2-d138-4452-f334-f81e64740a44",
        "colab": {
          "base_uri": "https://localhost:8080/"
        }
      },
      "execution_count": 47,
      "outputs": [
        {
          "output_type": "execute_result",
          "data": {
            "text/plain": [
              "array([[ 5],\n",
              "       [11]])"
            ]
          },
          "metadata": {},
          "execution_count": 47
        }
      ]
    },
    {
      "cell_type": "code",
      "source": [
        "#################################################################################################################"
      ],
      "metadata": {
        "id": "N2c2uYaD3R3E"
      },
      "execution_count": null,
      "outputs": []
    },
    {
      "cell_type": "markdown",
      "source": [
        "Lets evaluate the model by taking one example from the test data, and then calculate the MSE between the model prediction and the target."
      ],
      "metadata": {
        "id": "7oKTKSDG3Se7"
      }
    },
    {
      "cell_type": "code",
      "source": [
        "w = MLE(X_train, Y_train)# All the parameter estimation should be done using \n",
        "                         # only the training data."
      ],
      "metadata": {
        "id": "sE8GItUrQRa4"
      },
      "execution_count": 38,
      "outputs": []
    },
    {
      "cell_type": "code",
      "source": [
        "w"
      ],
      "metadata": {
        "id": "I1uipkUpCXDh",
        "outputId": "7b3d5367-1716-4f0c-9d9a-4fe7e0233e3e",
        "colab": {
          "base_uri": "https://localhost:8080/"
        }
      },
      "execution_count": 39,
      "outputs": [
        {
          "output_type": "execute_result",
          "data": {
            "text/plain": [
              "array([ 1.92947048e+01, -4.78485154e+00,  1.57018602e-01, -7.60718961e-04])"
            ]
          },
          "metadata": {},
          "execution_count": 39
        }
      ]
    },
    {
      "cell_type": "code",
      "source": [
        "Y_pred = X_test @ w"
      ],
      "metadata": {
        "id": "HEpVpoSNS0ll"
      },
      "execution_count": 40,
      "outputs": []
    },
    {
      "cell_type": "code",
      "source": [
        "Y_pred"
      ],
      "metadata": {
        "id": "7dB4N8EYDB4i",
        "outputId": "dd9e5541-954b-4c0e-8040-1ff93a19191a",
        "colab": {
          "base_uri": "https://localhost:8080/"
        }
      },
      "execution_count": 44,
      "outputs": [
        {
          "output_type": "execute_result",
          "data": {
            "text/plain": [
              "array([165.62541218, 185.77534783, 171.15382306, ..., 126.73576242,\n",
              "       175.18063772, 105.91295871])"
            ]
          },
          "metadata": {},
          "execution_count": 44
        }
      ]
    },
    {
      "cell_type": "code",
      "source": [
        "print(MSE(Y_test, Y_pred))"
      ],
      "metadata": {
        "id": "v5fmkYJ8TM4y",
        "colab": {
          "base_uri": "https://localhost:8080/"
        },
        "outputId": "40c7feb3-f6bd-4278-da8c-2311e851d6fb"
      },
      "execution_count": 41,
      "outputs": [
        {
          "output_type": "stream",
          "name": "stdout",
          "text": [
            "20.25920465820746\n"
          ]
        }
      ]
    },
    {
      "cell_type": "markdown",
      "source": [
        "# New Section"
      ],
      "metadata": {
        "id": "Y7YT49RIRlOg"
      }
    },
    {
      "cell_type": "code",
      "source": [
        "#################################################################################################################"
      ],
      "metadata": {
        "id": "b1-uNqpF6PAK"
      },
      "execution_count": null,
      "outputs": []
    }
  ]
}